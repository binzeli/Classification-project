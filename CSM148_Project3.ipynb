{
 "cells": [
  {
   "cell_type": "markdown",
   "metadata": {
    "id": "Q1JAc1ddb2-4"
   },
   "source": [
    "You are exploring the wilderness of _Mushroomia_, a land populated by a plethora of diverse fauna and flora. In particular, _Mushroomia_ is known for its unparalleled variety in mushrooms. However, not all the mushrooms in _Mushroomia_ are edible. As you make your way through _Mushroomia_, you would like to know which mushrooms are edible, in order to forage for supplies for your daily mushroom soup.\n",
    "\n",
    "You have access to:\n",
    "* _Shroomster Pro Max <sup>TM</sup>_ - a state of the art data collection device, developed by _Mushroomia_, that allows you to collect various data points about any mushroom you encounter in the wild\n",
    "* _The National Archives on Mushrooms_ - a dataset collected over the years by the government of _Mushroomia_\n",
    "\n",
    "To address this problem, you decide to use the skills you learnt in CSM148 and train machine learning models on the _The National Archives on Mushrooms_ in order to use your _Shroomster Pro Max <sup>TM</sup>_ to determine whether the mushrooms you encounter on your adventure can be added to your daily mushroom soup.  \n",
    "\n",
    "This project will be more unstructured than the previous two projects in order to allow you to experience how data science problems are solved in practice. There are two parts to this project: a Jupyter Notebook with your code (where you explore, visualize, process your data and train machine learning models) and a report (where you explain the various choices you make in your implementation and analyze the final performance of your models)."
   ]
  },
  {
   "cell_type": "markdown",
   "metadata": {
    "id": "wdxrlZxt5_BG"
   },
   "source": [
    "# 1. Loading and Viewing Data\n",
    "\n"
   ]
  },
  {
   "cell_type": "code",
   "execution_count": 843,
   "metadata": {
    "id": "osL4LWUad0I5"
   },
   "outputs": [
    {
     "name": "stdout",
     "output_type": "stream",
     "text": [
      "(50213, 21)\n",
      "(10856, 21)\n"
     ]
    }
   ],
   "source": [
    "# import pandas as pd\n",
    "# pd.read_csv(...)\n",
    "# note delimitter for this file is semi-colon (;) not comma\n",
    "\n",
    "import pandas as pd\n",
    "train_data = pd.read_csv(\"mushroom_train.csv\", sep = \";\")\n",
    "test_data = pd.read_csv(\"mushroom_test.csv\", sep = \";\")\n",
    "print(train_data.shape)\n",
    "print(test_data.shape)"
   ]
  },
  {
   "cell_type": "code",
   "execution_count": 844,
   "metadata": {
    "scrolled": false
   },
   "outputs": [
    {
     "name": "stdout",
     "output_type": "stream",
     "text": [
      "  class  cap-diameter cap-shape cap-surface cap-color does-bruise-or-bleed  \\\n",
      "0     p         15.26         x           g         o                    f   \n",
      "1     p         16.60         x           g         o                    f   \n",
      "2     p         14.07         x           g         o                    f   \n",
      "3     p         14.17         f           h         e                    f   \n",
      "4     p         14.64         x           h         o                    f   \n",
      "\n",
      "  gill-attachment gill-spacing gill-color  stem-height  ...  stem-root  \\\n",
      "0               e          NaN          w        16.95  ...          s   \n",
      "1               e          NaN          w        17.99  ...          s   \n",
      "2               e          NaN          w        17.80  ...          s   \n",
      "3               e          NaN          w        15.77  ...          s   \n",
      "4               e          NaN          w        16.53  ...          s   \n",
      "\n",
      "  stem-surface stem-color veil-type veil-color has-ring ring-type  \\\n",
      "0            y          w         u          w        t         g   \n",
      "1            y          w         u          w        t         g   \n",
      "2            y          w         u          w        t         g   \n",
      "3            y          w         u          w        t         p   \n",
      "4            y          w         u          w        t         p   \n",
      "\n",
      "  spore-print-color habitat season  \n",
      "0               NaN       d      w  \n",
      "1               NaN       d      u  \n",
      "2               NaN       d      w  \n",
      "3               NaN       d      w  \n",
      "4               NaN       d      w  \n",
      "\n",
      "[5 rows x 21 columns]\n"
     ]
    }
   ],
   "source": [
    "print(train_data.head())"
   ]
  },
  {
   "cell_type": "code",
   "execution_count": 848,
   "metadata": {},
   "outputs": [
    {
     "name": "stdout",
     "output_type": "stream",
     "text": [
      "<class 'pandas.core.frame.DataFrame'>\n",
      "RangeIndex: 50213 entries, 0 to 50212\n",
      "Data columns (total 21 columns):\n",
      " #   Column                Non-Null Count  Dtype  \n",
      "---  ------                --------------  -----  \n",
      " 0   class                 50213 non-null  object \n",
      " 1   cap-diameter          50213 non-null  float64\n",
      " 2   cap-shape             50213 non-null  object \n",
      " 3   cap-surface           37915 non-null  object \n",
      " 4   cap-color             50213 non-null  object \n",
      " 5   does-bruise-or-bleed  50213 non-null  object \n",
      " 6   gill-attachment       42447 non-null  object \n",
      " 7   gill-spacing          31064 non-null  object \n",
      " 8   gill-color            50213 non-null  object \n",
      " 9   stem-height           50213 non-null  float64\n",
      " 10  stem-width            50213 non-null  float64\n",
      " 11  stem-root             7413 non-null   object \n",
      " 12  stem-surface          19912 non-null  object \n",
      " 13  stem-color            50213 non-null  object \n",
      " 14  veil-type             3177 non-null   object \n",
      " 15  veil-color            6297 non-null   object \n",
      " 16  has-ring              50213 non-null  object \n",
      " 17  ring-type             48448 non-null  object \n",
      " 18  spore-print-color     4532 non-null   object \n",
      " 19  habitat               50213 non-null  object \n",
      " 20  season                50213 non-null  object \n",
      "dtypes: float64(3), object(18)\n",
      "memory usage: 8.0+ MB\n"
     ]
    }
   ],
   "source": [
    "train_data.info()"
   ]
  },
  {
   "cell_type": "markdown",
   "metadata": {
    "id": "ih8bE0ke6B5H"
   },
   "source": [
    "# 2. Splitting Data into Features and Labels"
   ]
  },
  {
   "cell_type": "code",
   "execution_count": 770,
   "metadata": {
    "id": "nUqdm_e0mFic"
   },
   "outputs": [],
   "source": [
    "# Only keep features that shroomster can detect!\n",
    "\n",
    "training = train_data.drop(\"class\", axis=1)\n",
    "train_labels = train_data[\"class\"].copy()\n",
    "testing = test_data.drop(\"class\", axis=1) \n",
    "test_labels = test_data[\"class\"].copy()"
   ]
  },
  {
   "cell_type": "markdown",
   "metadata": {
    "id": "F0lxPkOv6N5z"
   },
   "source": [
    "# 3. Data Exploration and Visualization"
   ]
  },
  {
   "cell_type": "code",
   "execution_count": 771,
   "metadata": {
    "id": "ElKT93Lsd-w2",
    "scrolled": false
   },
   "outputs": [],
   "source": [
    "# Hint: We have done this in both project 1 & 2\n",
    "%matplotlib inline\n",
    "import matplotlib.pyplot as plt #plotting package\n",
    "import seaborn as sns \n",
    "from pandas.plotting import scatter_matrix\n"
   ]
  },
  {
   "cell_type": "code",
   "execution_count": 772,
   "metadata": {
    "scrolled": false
   },
   "outputs": [
    {
     "data": {
      "image/png": "[encoded data removed]",
      "text/plain": [
       "<Figure size 1152x432 with 2 Axes>"
      ]
     },
     "metadata": {
      "needs_background": "light"
     },
     "output_type": "display_data"
    }
   ],
   "source": [
    "plt.figure(figsize=(16, 6)) \n",
    "sns.heatmap(train_data.corr(), annot=True,cmap='BrBG') \n",
    "plt.show()"
   ]
  },
  {
   "cell_type": "code",
   "execution_count": 773,
   "metadata": {},
   "outputs": [
    {
     "data": {
      "text/plain": [
       "array([[<AxesSubplot:title={'center':'cap-diameter'}>,\n",
       "        <AxesSubplot:title={'center':'stem-height'}>],\n",
       "       [<AxesSubplot:title={'center':'stem-width'}>, <AxesSubplot:>]],\n",
       "      dtype=object)"
      ]
     },
     "execution_count": 773,
     "metadata": {},
     "output_type": "execute_result"
    },
    {
     "data": {
      "image/png": "[encoded data removed]",
      "text/plain": [
       "<Figure size 720x360 with 4 Axes>"
      ]
     },
     "metadata": {
      "needs_background": "light"
     },
     "output_type": "display_data"
    }
   ],
   "source": [
    "train_data.hist(figsize=(10,5))"
   ]
  },
  {
   "cell_type": "code",
   "execution_count": 774,
   "metadata": {
    "scrolled": false
   },
   "outputs": [
    {
     "data": {
      "image/png": "[encoded data removed]",
      "text/plain": [
       "<Figure size 432x288 with 1 Axes>"
      ]
     },
     "metadata": {
      "needs_background": "light"
     },
     "output_type": "display_data"
    },
    {
     "data": {
      "image/png": "[encoded data removed]",
      "text/plain": [
       "<Figure size 432x288 with 1 Axes>"
      ]
     },
     "metadata": {
      "needs_background": "light"
     },
     "output_type": "display_data"
    },
    {
     "data": {
      "image/png": "[encoded data removed]",
      "text/plain": [
       "<Figure size 432x288 with 1 Axes>"
      ]
     },
     "metadata": {
      "needs_background": "light"
     },
     "output_type": "display_data"
    },
    {
     "data": {
      "image/png": "[encoded data removed]",
      "text/plain": [
       "<Figure size 432x288 with 1 Axes>"
      ]
     },
     "metadata": {
      "needs_background": "light"
     },
     "output_type": "display_data"
    },
    {
     "data": {
      "image/png": "[encoded data removed]",
      "text/plain": [
       "<Figure size 432x288 with 1 Axes>"
      ]
     },
     "metadata": {
      "needs_background": "light"
     },
     "output_type": "display_data"
    },
    {
     "data": {
      "image/png": "[encoded data removed]",
      "text/plain": [
       "<Figure size 432x288 with 1 Axes>"
      ]
     },
     "metadata": {
      "needs_background": "light"
     },
     "output_type": "display_data"
    },
    {
     "data": {
      "image/png": "[encoded data removed]",
      "text/plain": [
       "<Figure size 432x288 with 1 Axes>"
      ]
     },
     "metadata": {
      "needs_background": "light"
     },
     "output_type": "display_data"
    },
    {
     "data": {
      "image/png": "[encoded data removed]",
      "text/plain": [
       "<Figure size 432x288 with 1 Axes>"
      ]
     },
     "metadata": {
      "needs_background": "light"
     },
     "output_type": "display_data"
    },
    {
     "data": {
      "image/png": "[encoded data removed]",
      "text/plain": [
       "<Figure size 432x288 with 1 Axes>"
      ]
     },
     "metadata": {
      "needs_background": "light"
     },
     "output_type": "display_data"
    },
    {
     "data": {
      "image/png": "[encoded data removed]",
      "text/plain": [
       "<Figure size 432x288 with 1 Axes>"
      ]
     },
     "metadata": {
      "needs_background": "light"
     },
     "output_type": "display_data"
    },
    {
     "data": {
      "image/png": "[encoded data removed]",
      "text/plain": [
       "<Figure size 432x288 with 1 Axes>"
      ]
     },
     "metadata": {
      "needs_background": "light"
     },
     "output_type": "display_data"
    },
    {
     "data": {
      "image/png": "[encoded data removed]",
      "text/plain": [
       "<Figure size 432x288 with 1 Axes>"
      ]
     },
     "metadata": {
      "needs_background": "light"
     },
     "output_type": "display_data"
    },
    {
     "data": {
      "image/png": "[encoded data removed]",
      "text/plain": [
       "<Figure size 432x288 with 1 Axes>"
      ]
     },
     "metadata": {
      "needs_background": "light"
     },
     "output_type": "display_data"
    },
    {
     "data": {
      "image/png": "[encoded data removed]",
      "text/plain": [
       "<Figure size 432x288 with 1 Axes>"
      ]
     },
     "metadata": {
      "needs_background": "light"
     },
     "output_type": "display_data"
    },
    {
     "data": {
      "image/png": "[encoded data removed]",
      "text/plain": [
       "<Figure size 432x288 with 1 Axes>"
      ]
     },
     "metadata": {
      "needs_background": "light"
     },
     "output_type": "display_data"
    },
    {
     "data": {
      "image/png": "[encoded data removed]",
      "text/plain": [
       "<Figure size 432x288 with 1 Axes>"
      ]
     },
     "metadata": {
      "needs_background": "light"
     },
     "output_type": "display_data"
    },
    {
     "data": {
      "image/png": "[encoded data removed]",
      "text/plain": [
       "<Figure size 432x288 with 1 Axes>"
      ]
     },
     "metadata": {
      "needs_background": "light"
     },
     "output_type": "display_data"
    }
   ],
   "source": [
    "import seaborn as sns\n",
    "numerical_features = ['cap-diameter','stem-height', 'stem-width']\n",
    "cat = training.drop(['cap-diameter','stem-height', 'stem-width'], axis=1)\n",
    "categorical_features = list(cat)\n",
    "for i in categorical_features:\n",
    "    \n",
    "    sns.countplot(x=i,data=training)  \n",
    "    plt.show()\n",
    "\n",
    "    \n",
    "    \n",
    "\n",
    "    "
   ]
  },
  {
   "cell_type": "code",
   "execution_count": 775,
   "metadata": {},
   "outputs": [
    {
     "data": {
      "text/plain": [
       "(array([29242.,     0.,     0.,     0.,     0.,     0.,     0.,     0.,\n",
       "            0., 20971.]),\n",
       " array([0. , 0.1, 0.2, 0.3, 0.4, 0.5, 0.6, 0.7, 0.8, 0.9, 1. ]),\n",
       " <BarContainer object of 10 artists>)"
      ]
     },
     "execution_count": 775,
     "metadata": {},
     "output_type": "execute_result"
    },
    {
     "data": {
      "image/png": "[encoded data removed]",
      "text/plain": [
       "<Figure size 432x288 with 1 Axes>"
      ]
     },
     "metadata": {
      "needs_background": "light"
     },
     "output_type": "display_data"
    }
   ],
   "source": [
    "#sns.countplot(x='class',data=train_labels)  \n",
    "plt.hist(train_labels)"
   ]
  },
  {
   "cell_type": "code",
   "execution_count": null,
   "metadata": {},
   "outputs": [],
   "source": []
  },
  {
   "cell_type": "markdown",
   "metadata": {
    "id": "ZXY_GJc6ASh3"
   },
   "source": [
    "# 5. Data Augmentation (Creating at least 2 New Features)"
   ]
  },
  {
   "cell_type": "code",
   "execution_count": 776,
   "metadata": {
    "id": "1_FXGszIemzz"
   },
   "outputs": [
    {
     "name": "stdout",
     "output_type": "stream",
     "text": [
      "2    22030\n",
      "3    10671\n",
      "1    10559\n",
      "4     6953\n",
      "Name: cap-diameter_cat, dtype: int64\n",
      "       cap-diameter cap-shape cap-surface cap-color does-bruise-or-bleed  \\\n",
      "0             15.26         x           g         o                    f   \n",
      "1             16.60         x           g         o                    f   \n",
      "2             14.07         x           g         o                    f   \n",
      "3             14.17         f           h         e                    f   \n",
      "4             14.64         x           h         o                    f   \n",
      "...             ...       ...         ...       ...                  ...   \n",
      "50208          1.18         s           s         y                    f   \n",
      "50209          1.27         f           s         y                    f   \n",
      "50210          1.27         s           s         y                    f   \n",
      "50211          1.24         f           s         y                    f   \n",
      "50212          1.17         s           s         y                    f   \n",
      "\n",
      "      gill-attachment gill-spacing gill-color  stem-height  stem-width  ...  \\\n",
      "0                   e          NaN          w        16.95       17.09  ...   \n",
      "1                   e          NaN          w        17.99       18.19  ...   \n",
      "2                   e          NaN          w        17.80       17.74  ...   \n",
      "3                   e          NaN          w        15.77       15.98  ...   \n",
      "4                   e          NaN          w        16.53       17.20  ...   \n",
      "...               ...          ...        ...          ...         ...  ...   \n",
      "50208               f            f          f         3.93        6.22  ...   \n",
      "50209               f            f          f         3.18        5.43  ...   \n",
      "50210               f            f          f         3.86        6.37  ...   \n",
      "50211               f            f          f         3.56        5.44  ...   \n",
      "50212               f            f          f         3.25        5.45  ...   \n",
      "\n",
      "      stem-color veil-type veil-color has-ring ring-type spore-print-color  \\\n",
      "0              w         u          w        t         g               NaN   \n",
      "1              w         u          w        t         g               NaN   \n",
      "2              w         u          w        t         g               NaN   \n",
      "3              w         u          w        t         p               NaN   \n",
      "4              w         u          w        t         p               NaN   \n",
      "...          ...       ...        ...      ...       ...               ...   \n",
      "50208          y       NaN        NaN        f         f               NaN   \n",
      "50209          y       NaN        NaN        f         f               NaN   \n",
      "50210          y       NaN        NaN        f         f               NaN   \n",
      "50211          y       NaN        NaN        f         f               NaN   \n",
      "50212          y       NaN        NaN        f         f               NaN   \n",
      "\n",
      "      habitat season       volume cap-diameter_cat  \n",
      "0           d      w  3888.156251                4  \n",
      "1           d      u  4675.051968                4  \n",
      "2           d      w  4399.639725                4  \n",
      "3           d      w  3162.824721                4  \n",
      "4           d      w  3840.781745                4  \n",
      "...       ...    ...          ...              ...  \n",
      "50208       d      a   119.416187                1  \n",
      "50209       d      a    73.640488                1  \n",
      "50210       d      u   123.014428                1  \n",
      "50211       d      u    82.744222                1  \n",
      "50212       d      u    75.816939                1  \n",
      "\n",
      "[50213 rows x 22 columns]\n"
     ]
    }
   ],
   "source": [
    "# Similar to Project 1 and 2. \n",
    "import numpy as np\n",
    "import math\n",
    "\n",
    "training['volume']= math.pi*pow(training['stem-width']/2,2)*training['stem-height']\n",
    "training[\"cap-diameter_cat\"] = pd.cut(training[\"cap-diameter\"], bins=[-1., 3., 7., 10., np.inf],\n",
    "                                  labels=[1, 2, 3, 4]) \n",
    "\n",
    "testing['volume']= math.pi*pow(testing['stem-width']/2,2)*testing['stem-height']\n",
    "testing[\"cap-diameter_cat\"] = pd.cut(testing[\"cap-diameter\"], bins=[-1., 3., 7., 10., np.inf],\n",
    "                                  labels=[1, 2, 3, 4])\n",
    "\n",
    "print(training[\"cap-diameter_cat\"].value_counts())\n",
    "\n",
    "print(training)\n"
   ]
  },
  {
   "cell_type": "markdown",
   "metadata": {
    "id": "zwsD1gQm6WA1"
   },
   "source": [
    "# 4. Data Processing"
   ]
  },
  {
   "cell_type": "code",
   "execution_count": 777,
   "metadata": {
    "id": "ZgJ6qgOijCxa",
    "scrolled": false
   },
   "outputs": [
    {
     "name": "stdout",
     "output_type": "stream",
     "text": [
      "29242\n",
      "20971\n"
     ]
    }
   ],
   "source": [
    "# Hints:\n",
    "# 1. Convert the \"class\" column into labels: 'p' (poisonous) -> 0,  'e' (edible) -> 1 \n",
    "# 2. You can drop columns if you see fit\n",
    "# 3. See any imcomplete data? We learned how to deal with them in project 1.\n",
    "\n",
    "# from sklearn.pipeline import ...\n",
    "# from sklearn.preprocessing import ...\n",
    "# from sklearn.compose import ...\n",
    "\n",
    "\n",
    "# p->0, e->1\n",
    "train_labels = [0 if x == \"p\" else 1 for x in train_labels]\n",
    "print(train_labels.count(0))\n",
    "print(train_labels.count(1))\n",
    "test_labels = [0 if x == \"p\" else 1 for x in test_labels]"
   ]
  },
  {
   "cell_type": "code",
   "execution_count": 778,
   "metadata": {
    "scrolled": false
   },
   "outputs": [
    {
     "name": "stdout",
     "output_type": "stream",
     "text": [
      "(50213, 22)\n",
      "cap-diameter                0\n",
      "cap-shape                   0\n",
      "cap-surface             12298\n",
      "cap-color                   0\n",
      "does-bruise-or-bleed        0\n",
      "gill-attachment          7766\n",
      "gill-spacing            19149\n",
      "gill-color                  0\n",
      "stem-height                 0\n",
      "stem-width                  0\n",
      "stem-root               42800\n",
      "stem-surface            30301\n",
      "stem-color                  0\n",
      "veil-type               47036\n",
      "veil-color              43916\n",
      "has-ring                    0\n",
      "ring-type                1765\n",
      "spore-print-color       45681\n",
      "habitat                     0\n",
      "season                      0\n",
      "volume                      0\n",
      "cap-diameter_cat            0\n",
      "dtype: int64\n"
     ]
    }
   ],
   "source": [
    "#incomplete/drop\n",
    "print(training.shape)\n",
    "print(training.isnull().sum()) \n",
    "\n",
    "# should drop \"stem-root\", \"stem-surface\", \"veil-type\", \"veil-color\", \"spore-print-color\""
   ]
  },
  {
   "cell_type": "code",
   "execution_count": 779,
   "metadata": {},
   "outputs": [],
   "source": [
    "# should drop \"stem-root\", \"stem-surface\", \"veil-type\", \"veil-color\", \"spore-print-color\"\n",
    "training = training.drop(['stem-root', 'stem-surface', 'veil-type', 'veil-color', 'spore-print-color'], axis=1)\n",
    "testing = testing.drop(['stem-root', 'stem-surface', 'veil-type', 'veil-color', 'spore-print-color'], axis=1)\n"
   ]
  },
  {
   "cell_type": "code",
   "execution_count": 780,
   "metadata": {
    "scrolled": true
   },
   "outputs": [
    {
     "name": "stdout",
     "output_type": "stream",
     "text": [
      "(50213, 17)\n",
      "cap-diameter                0\n",
      "cap-shape                   0\n",
      "cap-surface             12298\n",
      "cap-color                   0\n",
      "does-bruise-or-bleed        0\n",
      "gill-attachment          7766\n",
      "gill-spacing            19149\n",
      "gill-color                  0\n",
      "stem-height                 0\n",
      "stem-width                  0\n",
      "stem-color                  0\n",
      "has-ring                    0\n",
      "ring-type                1765\n",
      "habitat                     0\n",
      "season                      0\n",
      "volume                      0\n",
      "cap-diameter_cat            0\n",
      "dtype: int64\n"
     ]
    }
   ],
   "source": [
    "print(training.shape)\n",
    "print(training.isnull().sum()) \n"
   ]
  },
  {
   "cell_type": "code",
   "execution_count": 781,
   "metadata": {
    "scrolled": false
   },
   "outputs": [
    {
     "name": "stdout",
     "output_type": "stream",
     "text": [
      "(50213, 17)\n",
      "cap-diameter            0\n",
      "cap-shape               0\n",
      "cap-surface             0\n",
      "cap-color               0\n",
      "does-bruise-or-bleed    0\n",
      "gill-attachment         0\n",
      "gill-spacing            0\n",
      "gill-color              0\n",
      "stem-height             0\n",
      "stem-width              0\n",
      "stem-color              0\n",
      "has-ring                0\n",
      "ring-type               0\n",
      "habitat                 0\n",
      "season                  0\n",
      "volume                  0\n",
      "cap-diameter_cat        0\n",
      "dtype: int64\n",
      "(10856, 17)\n",
      "cap-diameter            0\n",
      "cap-shape               0\n",
      "cap-surface             0\n",
      "cap-color               0\n",
      "does-bruise-or-bleed    0\n",
      "gill-attachment         0\n",
      "gill-spacing            0\n",
      "gill-color              0\n",
      "stem-height             0\n",
      "stem-width              0\n",
      "stem-color              0\n",
      "has-ring                0\n",
      "ring-type               0\n",
      "habitat                 0\n",
      "season                  0\n",
      "volume                  0\n",
      "cap-diameter_cat        0\n",
      "dtype: int64\n"
     ]
    }
   ],
   "source": [
    "training['cap-surface'].fillna(training['cap-surface'].mode()[0], inplace=True)\n",
    "training['gill-attachment'].fillna(training['gill-attachment'].mode()[0], inplace=True)\n",
    "training['gill-spacing'].fillna(training['gill-spacing'].mode()[0], inplace=True)\n",
    "training['ring-type'].fillna(training['ring-type'].mode()[0], inplace=True)\n",
    "\n",
    "testing['cap-surface'].fillna(training['cap-surface'].mode()[0], inplace=True)\n",
    "testing['gill-attachment'].fillna(training['gill-attachment'].mode()[0], inplace=True)\n",
    "testing['gill-spacing'].fillna(training['gill-spacing'].mode()[0], inplace=True)\n",
    "testing['ring-type'].fillna(training['ring-type'].mode()[0], inplace=True)\n",
    "\n",
    "print(training.shape)\n",
    "print(training.isnull().sum()) \n",
    "print(testing.shape)\n",
    "print(testing.isnull().sum())"
   ]
  },
  {
   "cell_type": "code",
   "execution_count": 816,
   "metadata": {},
   "outputs": [],
   "source": [
    "#pipeline\n",
    "\n",
    "from sklearn.pipeline import Pipeline\n",
    "from sklearn.preprocessing import StandardScaler, OneHotEncoder\n",
    "from sklearn.compose import ColumnTransformer, make_column_transformer\n",
    "\n",
    "num_pipeline = Pipeline([\n",
    "        ('std_scaler', StandardScaler())\n",
    "])\n",
    "numerical_features = ['cap-diameter','stem-height', 'stem-width','volume']\n",
    "cat = training.drop(['cap-diameter','stem-height', 'stem-width','volume'], axis=1)\n",
    "categorical_features = list(cat)\n",
    "\n",
    "full_pipeline = ColumnTransformer([\n",
    "        (\"num\", num_pipeline, numerical_features),\n",
    "    (\"cat\", OneHotEncoder(categories='auto', handle_unknown='ignore'), categorical_features),])\n"
   ]
  },
  {
   "cell_type": "code",
   "execution_count": 817,
   "metadata": {},
   "outputs": [],
   "source": [
    "prepared_train = full_pipeline.fit_transform(training).toarray()\n",
    "\n",
    "prepared_test = full_pipeline.transform(testing).toarray()\n"
   ]
  },
  {
   "cell_type": "markdown",
   "metadata": {
    "id": "h-J_WJ-06ZJN"
   },
   "source": [
    "# 6.  Logistic Regression & Statistical Hypothesis Testing"
   ]
  },
  {
   "cell_type": "code",
   "execution_count": 834,
   "metadata": {
    "id": "8gZxu5_xeIpA"
   },
   "outputs": [
    {
     "name": "stdout",
     "output_type": "stream",
     "text": [
      "Accuracy:    0.510962\n"
     ]
    }
   ],
   "source": [
    "# from sklearn.linear_model import LogisticRegression\n",
    "from sklearn.linear_model import LogisticRegression\n",
    "from sklearn import metrics\n",
    "clf = LogisticRegression(solver='liblinear').fit(prepared_train, train_labels) \n",
    "pred = clf.predict(prepared_test)\n",
    "\n",
    "print(\"%-12s %f\" % ('Accuracy:', metrics.accuracy_score(test_labels, pred)))"
   ]
  },
  {
   "cell_type": "code",
   "execution_count": 835,
   "metadata": {},
   "outputs": [
    {
     "name": "stdout",
     "output_type": "stream",
     "text": [
      "Accuracy score: 0.5109616801768607\n",
      "Precision score: 0.8041863605671843\n",
      "Recall score: 0.19178743961352657\n",
      "F1 score: 0.30971265115069563\n"
     ]
    }
   ],
   "source": [
    "print(\"Accuracy score:\",metrics.accuracy_score(test_labels, pred)) \n",
    "print(\"Precision score:\",metrics.precision_score(test_labels, pred)) \n",
    "print(\"Recall score:\",metrics.recall_score(test_labels, pred)) \n",
    "print(\"F1 score:\",metrics.f1_score(test_labels, pred))"
   ]
  },
  {
   "cell_type": "code",
   "execution_count": 827,
   "metadata": {},
   "outputs": [
    {
     "data": {
      "text/plain": [
       "array([1.98454605, 3.21243332, 0.81689852, 1.69135278, 0.        ,\n",
       "       0.        , 0.        , 0.        , 0.        , 0.        ,\n",
       "       1.        , 0.        , 0.        , 1.        , 0.        ,\n",
       "       0.        , 0.        , 0.        , 0.        , 0.        ,\n",
       "       0.        , 0.        , 0.        , 0.        , 0.        ,\n",
       "       0.        , 0.        , 0.        , 1.        , 0.        ,\n",
       "       0.        , 0.        , 0.        , 0.        , 1.        ,\n",
       "       0.        , 0.        , 0.        , 1.        , 0.        ,\n",
       "       0.        , 0.        , 0.        , 1.        , 0.        ,\n",
       "       0.        , 0.        , 0.        , 0.        , 0.        ,\n",
       "       0.        , 0.        , 0.        , 0.        , 0.        ,\n",
       "       0.        , 1.        , 0.        , 0.        , 0.        ,\n",
       "       0.        , 0.        , 0.        , 0.        , 0.        ,\n",
       "       0.        , 0.        , 0.        , 1.        , 0.        ,\n",
       "       0.        , 1.        , 0.        , 0.        , 1.        ,\n",
       "       0.        , 0.        , 0.        , 0.        , 0.        ,\n",
       "       1.        , 0.        , 0.        , 0.        , 0.        ,\n",
       "       0.        , 0.        , 0.        , 0.        , 0.        ,\n",
       "       0.        , 1.        , 0.        , 0.        , 0.        ,\n",
       "       1.        ])"
      ]
     },
     "execution_count": 827,
     "metadata": {},
     "output_type": "execute_result"
    }
   ],
   "source": [
    "# see which ones are numeric values\n",
    "prepared_train[0]"
   ]
  },
  {
   "cell_type": "code",
   "execution_count": 821,
   "metadata": {},
   "outputs": [
    {
     "data": {
      "text/plain": [
       "array([[ 1.98454605,  3.21243332,  0.81689852,  1.69135278],\n",
       "       [ 2.27953735,  3.53524606,  0.9589272 ,  2.16352485],\n",
       "       [ 1.72257617,  3.47627065,  0.90082456,  1.99826538],\n",
       "       ...,\n",
       "       [-1.09525116, -0.85066168, -0.5672355 , -0.5678981 ],\n",
       "       [-1.10185544, -0.94378074, -0.6873143 , -0.59206199],\n",
       "       [-1.11726543, -1.04000376, -0.68602313, -0.59621867]])"
      ]
     },
     "execution_count": 821,
     "metadata": {},
     "output_type": "execute_result"
    }
   ],
   "source": [
    "# the first four columns are numerical features\n",
    "prepared_train[:, 0:4]"
   ]
  },
  {
   "cell_type": "code",
   "execution_count": 837,
   "metadata": {
    "scrolled": false
   },
   "outputs": [
    {
     "name": "stdout",
     "output_type": "stream",
     "text": [
      "Optimization terminated successfully.\n",
      "         Current function value: 0.661995\n",
      "         Iterations 5\n",
      "                           Logit Regression Results                           \n",
      "==============================================================================\n",
      "Dep. Variable:                      y   No. Observations:                50213\n",
      "Model:                          Logit   Df Residuals:                    50208\n",
      "Method:                           MLE   Df Model:                            4\n",
      "Date:                Fri, 03 Mar 2023   Pseudo R-squ.:                 0.02579\n",
      "Time:                        16:32:49   Log-Likelihood:                -33241.\n",
      "converged:                       True   LL-Null:                       -34121.\n",
      "Covariance Type:            nonrobust   LLR p-value:                     0.000\n",
      "==============================================================================\n",
      "                 coef    std err          z      P>|z|      [0.025      0.975]\n",
      "------------------------------------------------------------------------------\n",
      "const         -0.3387      0.009    -36.715      0.000      -0.357      -0.321\n",
      "x1             0.4250      0.020     21.588      0.000       0.386       0.464\n",
      "x2             0.1019      0.013      7.953      0.000       0.077       0.127\n",
      "x3             0.2377      0.023     10.399      0.000       0.193       0.282\n",
      "x4            -0.3841      0.022    -17.222      0.000      -0.428      -0.340\n",
      "==============================================================================\n"
     ]
    },
    {
     "data": {
      "text/plain": [
       "array([4.19907437e-295, 2.33419064e-103, 1.81640552e-015, 2.49283250e-025,\n",
       "       1.82014874e-066])"
      ]
     },
     "execution_count": 837,
     "metadata": {},
     "output_type": "execute_result"
    }
   ],
   "source": [
    "# only use numerical features to do statistical hypothesis testing\n",
    "import statsmodels.api as sm\n",
    "sm_x = sm.add_constant(prepared_train[:, 0:4])\n",
    "pred = sm.Logit(train_labels, sm_x)\n",
    "results_stats = pred.fit()\n",
    "print(results_stats.summary())\n",
    "results_stats.pvalues"
   ]
  },
  {
   "cell_type": "markdown",
   "metadata": {
    "id": "_gTzEm8uVvbw"
   },
   "source": [
    "# 7. Dimensionality Reduction using PCA\n",
    "\n"
   ]
  },
  {
   "cell_type": "code",
   "execution_count": 808,
   "metadata": {
    "id": "bwunhLAEVvCM"
   },
   "outputs": [],
   "source": [
    "# PCA: https://scikit-learn.org/stable/modules/generated/sklearn.decomposition.PCA.html\n",
    "from sklearn.decomposition import PCA\n",
    "pca = PCA(n_components=2)\n",
    "pca_train = pca.fit_transform(prepared_train)\n",
    "pca_test = pca.transform(prepared_test)\n"
   ]
  },
  {
   "cell_type": "code",
   "execution_count": 809,
   "metadata": {},
   "outputs": [
    {
     "data": {
      "text/plain": [
       "(50213, 2)"
      ]
     },
     "execution_count": 809,
     "metadata": {},
     "output_type": "execute_result"
    }
   ],
   "source": [
    "pca_train.shape"
   ]
  },
  {
   "cell_type": "code",
   "execution_count": 810,
   "metadata": {},
   "outputs": [
    {
     "data": {
      "text/plain": [
       "(10856, 2)"
      ]
     },
     "execution_count": 810,
     "metadata": {},
     "output_type": "execute_result"
    }
   ],
   "source": [
    "pca_test.shape"
   ]
  },
  {
   "cell_type": "code",
   "execution_count": 824,
   "metadata": {},
   "outputs": [
    {
     "name": "stdout",
     "output_type": "stream",
     "text": [
      "Accuracy:    0.488301\n"
     ]
    }
   ],
   "source": [
    "clfn = LogisticRegression().fit(pca_train, train_labels) \n",
    "pred = clfn.predict(pca_test)\n",
    "\n",
    "print(\"%-12s %f\" % ('Accuracy:', metrics.accuracy_score(test_labels, pred)))"
   ]
  },
  {
   "cell_type": "code",
   "execution_count": 825,
   "metadata": {},
   "outputs": [
    {
     "name": "stdout",
     "output_type": "stream",
     "text": [
      "Accuracy score: 0.48830140014738393\n",
      "Precision score: 0.5947901591895803\n",
      "Recall score: 0.3309178743961353\n",
      "F1 score: 0.42524573202276256\n"
     ]
    }
   ],
   "source": [
    "print(\"Accuracy score:\",metrics.accuracy_score(test_labels, pred)) \n",
    "print(\"Precision score:\",metrics.precision_score(test_labels, pred)) \n",
    "print(\"Recall score:\",metrics.recall_score(test_labels, pred)) \n",
    "print(\"F1 score:\",metrics.f1_score(test_labels, pred))"
   ]
  },
  {
   "cell_type": "markdown",
   "metadata": {
    "id": "HazoMF_f7P_c"
   },
   "source": [
    "# 8. Experiment with any 2 other models (Non-Ensemble)"
   ]
  },
  {
   "cell_type": "code",
   "execution_count": 792,
   "metadata": {
    "id": "2c3uC9LWfgvn"
   },
   "outputs": [],
   "source": [
    "# Models: https://scikit-learn.org/stable/supervised_learning.html"
   ]
  },
  {
   "cell_type": "code",
   "execution_count": 813,
   "metadata": {},
   "outputs": [
    {
     "name": "stdout",
     "output_type": "stream",
     "text": [
      "Accuracy score: 0.5956153279292558\n",
      "Precision score: 0.699648968845985\n",
      "Recall score: 0.5135265700483091\n",
      "F1 score: 0.5923105497771174\n"
     ]
    }
   ],
   "source": [
    "# Decision Tree\n",
    "from sklearn import tree\n",
    "tree_clf = tree.DecisionTreeClassifier().fit(pca_train, train_labels)\n",
    "pred = tree_clf.predict(pca_test)\n",
    "\n",
    "print(\"Accuracy score:\",metrics.accuracy_score(test_labels, pred)) \n",
    "print(\"Precision score:\",metrics.precision_score(test_labels, pred)) \n",
    "print(\"Recall score:\",metrics.recall_score(test_labels, pred)) \n",
    "print(\"F1 score:\",metrics.f1_score(test_labels, pred))"
   ]
  },
  {
   "cell_type": "code",
   "execution_count": 814,
   "metadata": {},
   "outputs": [
    {
     "name": "stdout",
     "output_type": "stream",
     "text": [
      "Accuracy score: 0.5932203389830508\n",
      "Precision score: 0.7303543913713405\n",
      "Recall score: 0.4579710144927536\n",
      "F1 score: 0.5629453681710214\n"
     ]
    }
   ],
   "source": [
    "from sklearn import svm\n",
    "\n",
    "svmclf = svm.SVC().fit(pca_train, train_labels)\n",
    "pred = svmclf.predict(pca_test)\n",
    "\n",
    "print(\"Accuracy score:\",metrics.accuracy_score(test_labels, pred)) \n",
    "print(\"Precision score:\",metrics.precision_score(test_labels, pred)) \n",
    "print(\"Recall score:\",metrics.recall_score(test_labels, pred)) \n",
    "print(\"F1 score:\",metrics.f1_score(test_labels, pred))\n"
   ]
  },
  {
   "cell_type": "markdown",
   "metadata": {
    "id": "1h6JUUZY7Ak2"
   },
   "source": [
    "# 9. Experiment with 1 Ensemble Method"
   ]
  },
  {
   "cell_type": "code",
   "execution_count": 849,
   "metadata": {},
   "outputs": [
    {
     "name": "stdout",
     "output_type": "stream",
     "text": [
      "Accuracy score: 0.597457627118644\n",
      "Precision score: 0.699048031155344\n",
      "Recall score: 0.5202898550724637\n",
      "F1 score: 0.5965657311669128\n"
     ]
    }
   ],
   "source": [
    "# random forest\n",
    "from sklearn.ensemble import RandomForestClassifier\n",
    "\n",
    "clf = RandomForestClassifier().fit(pca_train, train_labels)\n",
    "pred = clf.predict(pca_test)\n",
    "print(\"Accuracy score:\",metrics.accuracy_score(test_labels, pred)) \n",
    "print(\"Precision score:\",metrics.precision_score(test_labels, pred)) \n",
    "print(\"Recall score:\",metrics.recall_score(test_labels, pred)) \n",
    "print(\"F1 score:\",metrics.f1_score(test_labels, pred))"
   ]
  },
  {
   "cell_type": "markdown",
   "metadata": {
    "id": "sOdYyK4cfS1v"
   },
   "source": [
    "# 10. Cross-Validation & Hyperparameter Tuning for All 3 Models"
   ]
  },
  {
   "cell_type": "code",
   "execution_count": 796,
   "metadata": {
    "id": "SIvLK-rEfBzf"
   },
   "outputs": [
    {
     "name": "stdout",
     "output_type": "stream",
     "text": [
      "TRAIN: [ 5022  5023  5024 ... 50210 50211 50212] TEST: [   0    1    2 ... 5019 5020 5021]\n",
      "TRAIN: [    0     1     2 ... 50210 50211 50212] TEST: [ 5022  5023  5024 ... 10041 10042 10043]\n",
      "TRAIN: [    0     1     2 ... 50210 50211 50212] TEST: [10044 10045 10046 ... 15063 15064 15065]\n",
      "TRAIN: [    0     1     2 ... 50210 50211 50212] TEST: [15066 15067 15068 ... 20084 20085 20086]\n",
      "TRAIN: [    0     1     2 ... 50210 50211 50212] TEST: [20087 20088 20089 ... 25105 25106 25107]\n",
      "TRAIN: [    0     1     2 ... 50210 50211 50212] TEST: [25108 25109 25110 ... 30126 30127 30128]\n",
      "TRAIN: [    0     1     2 ... 50210 50211 50212] TEST: [30129 30130 30131 ... 35147 35148 35149]\n",
      "TRAIN: [    0     1     2 ... 50210 50211 50212] TEST: [35150 35151 35152 ... 40168 40169 40170]\n",
      "TRAIN: [    0     1     2 ... 50210 50211 50212] TEST: [40171 40172 40173 ... 45189 45190 45191]\n",
      "TRAIN: [    0     1     2 ... 45189 45190 45191] TEST: [45192 45193 45194 ... 50210 50211 50212]\n"
     ]
    }
   ],
   "source": [
    "# Cross-Validation: https://scikit-learn.org/stable/modules/cross_validation.html\n",
    "# Hyperparameter Tuning: https://scikit-learn.org/stable/modules/grid_search.html\n",
    "\n",
    "from sklearn.model_selection import KFold\n",
    "from sklearn import model_selection\n",
    "kf=KFold(n_splits=10, random_state=None, shuffle=False)\n",
    "for train_index, test_index in kf.split(pca_train):\n",
    "    print(\"TRAIN:\", train_index, \"TEST:\", test_index)"
   ]
  },
  {
   "cell_type": "code",
   "execution_count": 797,
   "metadata": {
    "scrolled": true
   },
   "outputs": [
    {
     "name": "stdout",
     "output_type": "stream",
     "text": [
      "Fitting 15 folds for each of 56 candidates, totalling 840 fits\n",
      "DecisionTreeClassifier(max_depth=30, min_samples_split=70, splitter='random')\n",
      "0.7249312525931614\n"
     ]
    }
   ],
   "source": [
    "tree_kfold = model_selection.KFold(n_splits=15, random_state=42, shuffle=True)\n",
    "tree_model_kfold=tree.DecisionTreeClassifier()\n",
    "tree_params = [\n",
    "    {\n",
    "        'min_samples_split' : [50, 70, 100, 130],\n",
    "        'splitter' : ['best', 'random'],\n",
    "        'max_depth' : [ 10, 15, 20, 30, 40, 50, None]\n",
    "    }\n",
    "]\n",
    "tree_clf = model_selection.GridSearchCV(estimator=tree_model_kfold, param_grid=tree_params, scoring = 'accuracy', \n",
    "                                  cv=tree_kfold, verbose = True)\n",
    "tree_clf_fit=tree_clf.fit(pca_train, train_labels)\n",
    "tree_model = tree_clf_fit.best_estimator_\n",
    "print(tree_model)\n",
    "print(tree_clf_fit.best_score_)"
   ]
  },
  {
   "cell_type": "code",
   "execution_count": 799,
   "metadata": {},
   "outputs": [
    {
     "name": "stdout",
     "output_type": "stream",
     "text": [
      "Fitting 5 folds for each of 12 candidates, totalling 60 fits\n",
      "SVC(C=1, degree=1)\n",
      "0.67789211628\n"
     ]
    }
   ],
   "source": [
    "svm_kfold = model_selection.KFold(n_splits=5, random_state=42, shuffle=True)\n",
    "svm_model_kfold=svm.SVC()\n",
    "svm_params = [\n",
    "    {\n",
    "        'C' : [0.1, 1],\n",
    "        'degree' : [1,3],\n",
    "        'kernel' : ['linear', 'poly', 'rbf']\n",
    "    }\n",
    "]\n",
    "svm_clf = model_selection.GridSearchCV(estimator=svm_model_kfold, param_grid=svm_params, scoring = 'accuracy', \n",
    "                                  cv=svm_kfold, verbose = True)\n",
    "svm_clf_fit=svm_clf.fit(pca_train, train_labels)\n",
    "best_model = svm_clf_fit.best_estimator_\n",
    "print(best_model)\n",
    "print(svm_clf_fit.best_score_)"
   ]
  },
  {
   "cell_type": "code",
   "execution_count": 840,
   "metadata": {},
   "outputs": [
    {
     "data": {
      "text/plain": [
       "{'C': 1,\n",
       " 'break_ties': False,\n",
       " 'cache_size': 200,\n",
       " 'class_weight': None,\n",
       " 'coef0': 0.0,\n",
       " 'decision_function_shape': 'ovr',\n",
       " 'degree': 1,\n",
       " 'gamma': 'scale',\n",
       " 'kernel': 'rbf',\n",
       " 'max_iter': -1,\n",
       " 'probability': False,\n",
       " 'random_state': None,\n",
       " 'shrinking': True,\n",
       " 'tol': 0.001,\n",
       " 'verbose': False}"
      ]
     },
     "execution_count": 840,
     "metadata": {},
     "output_type": "execute_result"
    }
   ],
   "source": [
    "best_model.get_params()"
   ]
  },
  {
   "cell_type": "code",
   "execution_count": 800,
   "metadata": {},
   "outputs": [
    {
     "name": "stdout",
     "output_type": "stream",
     "text": [
      "Fitting 5 folds for each of 36 candidates, totalling 180 fits\n",
      "RandomForestClassifier(max_depth=10, n_estimators=300)\n",
      "0.7325192808148622\n"
     ]
    }
   ],
   "source": [
    "kfold = model_selection.KFold(n_splits=5, random_state=42, shuffle=True)\n",
    "rf_model_kfold = RandomForestClassifier()\n",
    "params = [\n",
    "    {\n",
    "        'n_estimators' : [100,200,300],\n",
    "        'max_depth' : [5,10,20, None],\n",
    "        'min_samples_leaf' : [1,3,5]\n",
    "    }\n",
    "]\n",
    "rf_clf = model_selection.GridSearchCV(estimator=rf_model_kfold, param_grid=params, scoring = 'accuracy', \n",
    "                                  cv=kfold, verbose = True)\n",
    "rf_clf_fit=rf_clf.fit(pca_train, train_labels)\n",
    "rf_best_model = rf_clf_fit.best_estimator_\n",
    "print(rf_best_model)\n",
    "print(rf_clf_fit.best_score_)\n"
   ]
  },
  {
   "cell_type": "code",
   "execution_count": 841,
   "metadata": {},
   "outputs": [
    {
     "data": {
      "text/plain": [
       "{'bootstrap': True,\n",
       " 'ccp_alpha': 0.0,\n",
       " 'class_weight': None,\n",
       " 'criterion': 'gini',\n",
       " 'max_depth': 10,\n",
       " 'max_features': 'auto',\n",
       " 'max_leaf_nodes': None,\n",
       " 'max_samples': None,\n",
       " 'min_impurity_decrease': 0.0,\n",
       " 'min_samples_leaf': 1,\n",
       " 'min_samples_split': 2,\n",
       " 'min_weight_fraction_leaf': 0.0,\n",
       " 'n_estimators': 300,\n",
       " 'n_jobs': None,\n",
       " 'oob_score': False,\n",
       " 'random_state': None,\n",
       " 'verbose': 0,\n",
       " 'warm_start': False}"
      ]
     },
     "execution_count": 841,
     "metadata": {},
     "output_type": "execute_result"
    }
   ],
   "source": [
    "rf_best_model.get_params()"
   ]
  },
  {
   "cell_type": "markdown",
   "metadata": {
    "id": "OTnFJgrd7VPw"
   },
   "source": [
    "# 11. Report Final Results "
   ]
  },
  {
   "cell_type": "code",
   "execution_count": 801,
   "metadata": {
    "id": "XcyjfhjWfh9r"
   },
   "outputs": [
    {
     "name": "stdout",
     "output_type": "stream",
     "text": [
      "Accuracy score: 0.6200257921886514\n",
      "Precision score: 0.7333781061114842\n",
      "Recall score: 0.527536231884058\n",
      "F1 score: 0.613655521213824\n"
     ]
    }
   ],
   "source": [
    "# e.g. Accuracy, Precision etc.\n",
    "\n",
    "pred = tree_model.predict(pca_test)\n",
    "\n",
    "print(\"Accuracy score:\",metrics.accuracy_score(test_labels, pred)) \n",
    "print(\"Precision score:\",metrics.precision_score(test_labels, pred)) \n",
    "print(\"Recall score:\",metrics.recall_score(test_labels, pred)) \n",
    "print(\"F1 score:\",metrics.f1_score(test_labels, pred))\n"
   ]
  },
  {
   "cell_type": "code",
   "execution_count": 804,
   "metadata": {},
   "outputs": [
    {
     "name": "stdout",
     "output_type": "stream",
     "text": [
      "Accuracy score: 0.5932203389830508\n",
      "Precision score: 0.7303543913713405\n",
      "Recall score: 0.4579710144927536\n",
      "F1 score: 0.5629453681710214\n"
     ]
    }
   ],
   "source": [
    "svm_pred = best_model.predict(pca_test)\n",
    "\n",
    "print(\"Accuracy score:\",metrics.accuracy_score(test_labels, svm_pred)) \n",
    "print(\"Precision score:\",metrics.precision_score(test_labels, svm_pred)) \n",
    "print(\"Recall score:\",metrics.recall_score(test_labels, svm_pred)) \n",
    "print(\"F1 score:\",metrics.f1_score(test_labels, svm_pred))\n"
   ]
  },
  {
   "cell_type": "code",
   "execution_count": 803,
   "metadata": {},
   "outputs": [
    {
     "name": "stdout",
     "output_type": "stream",
     "text": [
      "Accuracy score: 0.6137619749447311\n",
      "Precision score: 0.7195732636620945\n",
      "Recall score: 0.5322061191626409\n",
      "F1 score: 0.6118670739609369\n"
     ]
    }
   ],
   "source": [
    "rf_pred = rf_best_model.predict(pca_test)\n",
    "\n",
    "print(\"Accuracy score:\",metrics.accuracy_score(test_labels, rf_pred)) \n",
    "print(\"Precision score:\",metrics.precision_score(test_labels, rf_pred)) \n",
    "print(\"Recall score:\",metrics.recall_score(test_labels, rf_pred)) \n",
    "print(\"F1 score:\",metrics.f1_score(test_labels, rf_pred))\n"
   ]
  },
  {
   "cell_type": "code",
   "execution_count": null,
   "metadata": {},
   "outputs": [],
   "source": []
  }
 ],
 "metadata": {
  "colab": {
   "provenance": []
  },
  "kernelspec": {
   "display_name": "Python 3 (ipykernel)",
   "language": "python",
   "name": "python3"
  },
  "language_info": {
   "codemirror_mode": {
    "name": "ipython",
    "version": 3
   },
   "file_extension": ".py",
   "mimetype": "text/x-python",
   "name": "python",
   "nbconvert_exporter": "python",
   "pygments_lexer": "ipython3",
   "version": "3.9.12"
  }
 },
 "nbformat": 4,
 "nbformat_minor": 1
}
